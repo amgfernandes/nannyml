{
 "cells": [
  {
   "cell_type": "markdown",
   "id": "4f5bd9f5",
   "metadata": {},
   "source": [
    "# Example on real world dataset"
   ]
  },
  {
   "cell_type": "code",
   "execution_count": 25,
   "id": "9a519265",
   "metadata": {
    "scrolled": true
   },
   "outputs": [],
   "source": [
    "def showrst(df):\n",
    "    print(df.to_markdown(tablefmt=\"grid\"))\n"
   ]
  },
  {
   "cell_type": "code",
   "execution_count": 26,
   "id": "29e28482",
   "metadata": {
    "scrolled": true
   },
   "outputs": [
    {
     "data": {
      "text/html": [
       "<div>\n",
       "<style scoped>\n",
       "    .dataframe tbody tr th:only-of-type {\n",
       "        vertical-align: middle;\n",
       "    }\n",
       "\n",
       "    .dataframe tbody tr th {\n",
       "        vertical-align: top;\n",
       "    }\n",
       "\n",
       "    .dataframe thead th {\n",
       "        text-align: right;\n",
       "    }\n",
       "</style>\n",
       "<table border=\"1\" class=\"dataframe\">\n",
       "  <thead>\n",
       "    <tr style=\"text-align: right;\">\n",
       "      <th></th>\n",
       "      <th>MedInc</th>\n",
       "      <th>HouseAge</th>\n",
       "      <th>AveRooms</th>\n",
       "      <th>AveBedrms</th>\n",
       "      <th>Population</th>\n",
       "      <th>AveOccup</th>\n",
       "      <th>Latitude</th>\n",
       "      <th>Longitude</th>\n",
       "      <th>timestamp</th>\n",
       "      <th>partition</th>\n",
       "      <th>clf_target</th>\n",
       "      <th>y_pred_proba</th>\n",
       "      <th>identifier</th>\n",
       "    </tr>\n",
       "  </thead>\n",
       "  <tbody>\n",
       "    <tr>\n",
       "      <th>0</th>\n",
       "      <td>9.8413</td>\n",
       "      <td>32.0</td>\n",
       "      <td>7.170040</td>\n",
       "      <td>1.014845</td>\n",
       "      <td>4353.0</td>\n",
       "      <td>2.937247</td>\n",
       "      <td>34.22</td>\n",
       "      <td>-118.19</td>\n",
       "      <td>2020-10-01 00:00:00</td>\n",
       "      <td>reference</td>\n",
       "      <td>1</td>\n",
       "      <td>0.99</td>\n",
       "      <td>0</td>\n",
       "    </tr>\n",
       "    <tr>\n",
       "      <th>1</th>\n",
       "      <td>8.3695</td>\n",
       "      <td>37.0</td>\n",
       "      <td>7.458746</td>\n",
       "      <td>1.062706</td>\n",
       "      <td>941.0</td>\n",
       "      <td>3.105611</td>\n",
       "      <td>34.22</td>\n",
       "      <td>-118.21</td>\n",
       "      <td>2020-10-01 01:00:00</td>\n",
       "      <td>reference</td>\n",
       "      <td>1</td>\n",
       "      <td>1.00</td>\n",
       "      <td>1</td>\n",
       "    </tr>\n",
       "    <tr>\n",
       "      <th>2</th>\n",
       "      <td>8.7200</td>\n",
       "      <td>44.0</td>\n",
       "      <td>6.163180</td>\n",
       "      <td>1.046025</td>\n",
       "      <td>668.0</td>\n",
       "      <td>2.794979</td>\n",
       "      <td>34.20</td>\n",
       "      <td>-118.18</td>\n",
       "      <td>2020-10-01 02:00:00</td>\n",
       "      <td>reference</td>\n",
       "      <td>1</td>\n",
       "      <td>1.00</td>\n",
       "      <td>2</td>\n",
       "    </tr>\n",
       "  </tbody>\n",
       "</table>\n",
       "</div>"
      ],
      "text/plain": [
       "   MedInc  HouseAge  AveRooms  AveBedrms  Population  AveOccup  Latitude  \\\n",
       "0  9.8413      32.0  7.170040   1.014845      4353.0  2.937247     34.22   \n",
       "1  8.3695      37.0  7.458746   1.062706       941.0  3.105611     34.22   \n",
       "2  8.7200      44.0  6.163180   1.046025       668.0  2.794979     34.20   \n",
       "\n",
       "   Longitude            timestamp  partition  clf_target  y_pred_proba  \\\n",
       "0    -118.19  2020-10-01 00:00:00  reference           1          0.99   \n",
       "1    -118.21  2020-10-01 01:00:00  reference           1          1.00   \n",
       "2    -118.18  2020-10-01 02:00:00  reference           1          1.00   \n",
       "\n",
       "   identifier  \n",
       "0           0  \n",
       "1           1  \n",
       "2           2  "
      ]
     },
     "execution_count": 26,
     "metadata": {},
     "output_type": "execute_result"
    }
   ],
   "source": [
    "import pandas as pd\n",
    "import nannyml as nml\n",
    "# load data\n",
    "reference, analysis, analysis_gt = nml.datasets.load_modified_california_housing_dataset()\n",
    "reference.head(3)"
   ]
  },
  {
   "cell_type": "code",
   "execution_count": 27,
   "id": "2c314549",
   "metadata": {
    "scrolled": true
   },
   "outputs": [],
   "source": [
    "# extract metadata, add gt column name\n",
    "metadata = nml.extract_metadata(reference)\n",
    "metadata.target_column_name = 'clf_target'\n",
    "metadata.timestamp_column_name = 'timestamp'"
   ]
  },
  {
   "cell_type": "code",
   "execution_count": 28,
   "id": "6d03a69f",
   "metadata": {
    "scrolled": true
   },
   "outputs": [
    {
     "name": "stderr",
     "output_type": "stream",
     "text": [
      "/home/niels/Code/nml/nannyml/nannyml/nannyml/chunk.py:232: UserWarning:\n",
      "\n",
      "The resulting list of chunks contains 1 underpopulated chunks. They contain too few records to be statistically relevant and might negatively influence the quality of calculations. Please consider splitting your data in a different way or continue at your own risk.\n",
      "\n"
     ]
    }
   ],
   "source": [
    "# fit performance estimator and estimate for combined reference and analysis\n",
    "cbpe = nml.CBPE(model_metadata=metadata, chunk_period='M')\n",
    "cbpe.fit(reference_data=reference)\n",
    "est_perf = cbpe.estimate(pd.concat([reference, analysis]))"
   ]
  },
  {
   "cell_type": "code",
   "execution_count": 29,
   "id": "c851a6c5",
   "metadata": {
    "scrolled": true
   },
   "outputs": [
    {
     "data": {
      "text/html": [
       "<div>\n",
       "<style scoped>\n",
       "    .dataframe tbody tr th:only-of-type {\n",
       "        vertical-align: middle;\n",
       "    }\n",
       "\n",
       "    .dataframe tbody tr th {\n",
       "        vertical-align: top;\n",
       "    }\n",
       "\n",
       "    .dataframe thead th {\n",
       "        text-align: right;\n",
       "    }\n",
       "</style>\n",
       "<table border=\"1\" class=\"dataframe\">\n",
       "  <thead>\n",
       "    <tr style=\"text-align: right;\">\n",
       "      <th></th>\n",
       "      <th>key</th>\n",
       "      <th>start_index</th>\n",
       "      <th>end_index</th>\n",
       "      <th>start_date</th>\n",
       "      <th>end_date</th>\n",
       "      <th>partition</th>\n",
       "      <th>estimated_roc_auc</th>\n",
       "      <th>confidence</th>\n",
       "      <th>upper_threshold</th>\n",
       "      <th>lower_threshold</th>\n",
       "      <th>alert</th>\n",
       "    </tr>\n",
       "  </thead>\n",
       "  <tbody>\n",
       "    <tr>\n",
       "      <th>17</th>\n",
       "      <td>2022-03</td>\n",
       "      <td>6552</td>\n",
       "      <td>7295</td>\n",
       "      <td>2022-03-01</td>\n",
       "      <td>2022-03-31 23:59:59</td>\n",
       "      <td>analysis</td>\n",
       "      <td>0.829077</td>\n",
       "      <td>0.051046</td>\n",
       "      <td>1.0</td>\n",
       "      <td>0.708336</td>\n",
       "      <td>False</td>\n",
       "    </tr>\n",
       "    <tr>\n",
       "      <th>18</th>\n",
       "      <td>2022-04</td>\n",
       "      <td>7296</td>\n",
       "      <td>8015</td>\n",
       "      <td>2022-04-01</td>\n",
       "      <td>2022-04-30 23:59:59</td>\n",
       "      <td>analysis</td>\n",
       "      <td>0.910661</td>\n",
       "      <td>0.051046</td>\n",
       "      <td>1.0</td>\n",
       "      <td>0.708336</td>\n",
       "      <td>False</td>\n",
       "    </tr>\n",
       "    <tr>\n",
       "      <th>19</th>\n",
       "      <td>2022-05</td>\n",
       "      <td>8016</td>\n",
       "      <td>8231</td>\n",
       "      <td>2022-05-01</td>\n",
       "      <td>2022-05-09 23:59:59</td>\n",
       "      <td>analysis</td>\n",
       "      <td>0.939883</td>\n",
       "      <td>0.051046</td>\n",
       "      <td>1.0</td>\n",
       "      <td>0.708336</td>\n",
       "      <td>False</td>\n",
       "    </tr>\n",
       "  </tbody>\n",
       "</table>\n",
       "</div>"
      ],
      "text/plain": [
       "        key  start_index  end_index start_date            end_date partition  \\\n",
       "17  2022-03         6552       7295 2022-03-01 2022-03-31 23:59:59  analysis   \n",
       "18  2022-04         7296       8015 2022-04-01 2022-04-30 23:59:59  analysis   \n",
       "19  2022-05         8016       8231 2022-05-01 2022-05-09 23:59:59  analysis   \n",
       "\n",
       "    estimated_roc_auc  confidence  upper_threshold  lower_threshold  alert  \n",
       "17           0.829077    0.051046              1.0         0.708336  False  \n",
       "18           0.910661    0.051046              1.0         0.708336  False  \n",
       "19           0.939883    0.051046              1.0         0.708336  False  "
      ]
     },
     "execution_count": 29,
     "metadata": {},
     "output_type": "execute_result"
    }
   ],
   "source": [
    "est_perf.data.tail(3)"
   ]
  },
  {
   "cell_type": "code",
   "execution_count": 30,
   "id": "0f79b75a",
   "metadata": {
    "scrolled": true
   },
   "outputs": [
    {
     "data": {
      "text/html": [
       "<div>\n",
       "<style scoped>\n",
       "    .dataframe tbody tr th:only-of-type {\n",
       "        vertical-align: middle;\n",
       "    }\n",
       "\n",
       "    .dataframe tbody tr th {\n",
       "        vertical-align: top;\n",
       "    }\n",
       "\n",
       "    .dataframe thead th {\n",
       "        text-align: right;\n",
       "    }\n",
       "</style>\n",
       "<table border=\"1\" class=\"dataframe\">\n",
       "  <thead>\n",
       "    <tr style=\"text-align: right;\">\n",
       "      <th></th>\n",
       "      <th>key</th>\n",
       "      <th>start_index</th>\n",
       "      <th>end_index</th>\n",
       "      <th>start_date</th>\n",
       "      <th>end_date</th>\n",
       "      <th>partition</th>\n",
       "      <th>estimated_roc_auc</th>\n",
       "      <th>confidence</th>\n",
       "      <th>upper_threshold</th>\n",
       "      <th>lower_threshold</th>\n",
       "      <th>alert</th>\n",
       "    </tr>\n",
       "  </thead>\n",
       "  <tbody>\n",
       "    <tr>\n",
       "      <th>17</th>\n",
       "      <td>2022-03</td>\n",
       "      <td>6552</td>\n",
       "      <td>7295</td>\n",
       "      <td>2022-03-01</td>\n",
       "      <td>2022-03-31 23:59:59</td>\n",
       "      <td>analysis</td>\n",
       "      <td>0.829077</td>\n",
       "      <td>0.051046</td>\n",
       "      <td>1.0</td>\n",
       "      <td>0.708336</td>\n",
       "      <td>False</td>\n",
       "    </tr>\n",
       "    <tr>\n",
       "      <th>18</th>\n",
       "      <td>2022-04</td>\n",
       "      <td>7296</td>\n",
       "      <td>8015</td>\n",
       "      <td>2022-04-01</td>\n",
       "      <td>2022-04-30 23:59:59</td>\n",
       "      <td>analysis</td>\n",
       "      <td>0.910661</td>\n",
       "      <td>0.051046</td>\n",
       "      <td>1.0</td>\n",
       "      <td>0.708336</td>\n",
       "      <td>False</td>\n",
       "    </tr>\n",
       "  </tbody>\n",
       "</table>\n",
       "</div>"
      ],
      "text/plain": [
       "        key  start_index  end_index start_date            end_date partition  \\\n",
       "17  2022-03         6552       7295 2022-03-01 2022-03-31 23:59:59  analysis   \n",
       "18  2022-04         7296       8015 2022-04-01 2022-04-30 23:59:59  analysis   \n",
       "\n",
       "    estimated_roc_auc  confidence  upper_threshold  lower_threshold  alert  \n",
       "17           0.829077    0.051046              1.0         0.708336  False  \n",
       "18           0.910661    0.051046              1.0         0.708336  False  "
      ]
     },
     "execution_count": 30,
     "metadata": {},
     "output_type": "execute_result"
    }
   ],
   "source": [
    "est_perf.data = est_perf.data[:-1].copy()\n",
    "est_perf.data.tail(2)"
   ]
  },
  {
   "cell_type": "code",
   "execution_count": null,
   "id": "f9b3ad09",
   "metadata": {
    "pycharm": {
     "is_executing": true
    },
    "scrolled": true
   },
   "outputs": [],
   "source": [
    "fig = est_perf.plot(kind='performance')\n",
    "fig.show()"
   ]
  },
  {
   "cell_type": "code",
   "execution_count": 32,
   "id": "7b0c29c5",
   "metadata": {
    "scrolled": true
   },
   "outputs": [
    {
     "ename": "ValueError",
     "evalue": "Image generation requires the psutil package.\n\nInstall using pip:\n    $ pip install psutil\n\nInstall using conda:\n    $ conda install psutil\n",
     "output_type": "error",
     "traceback": [
      "\u001B[0;31m---------------------------------------------------------------------------\u001B[0m",
      "\u001B[0;31mValueError\u001B[0m                                Traceback (most recent call last)",
      "\u001B[0;32m/tmp/ipykernel_39470/3939321350.py\u001B[0m in \u001B[0;36m<module>\u001B[0;34m\u001B[0m\n\u001B[0;32m----> 1\u001B[0;31m \u001B[0mfig\u001B[0m\u001B[0;34m.\u001B[0m\u001B[0mwrite_image\u001B[0m\u001B[0;34m(\u001B[0m\u001B[0mfile\u001B[0m\u001B[0;34m=\u001B[0m\u001B[0;34m\"../_static/example_california_performance.svg\"\u001B[0m\u001B[0;34m,\u001B[0m \u001B[0mengine\u001B[0m\u001B[0;34m=\u001B[0m\u001B[0;34m\"orca\"\u001B[0m\u001B[0;34m)\u001B[0m\u001B[0;34m\u001B[0m\u001B[0;34m\u001B[0m\u001B[0m\n\u001B[0m",
      "\u001B[0;32m~/.cache/pypoetry/virtualenvs/nannyml-TW_t7fhL-py3.7/lib/python3.7/site-packages/plotly/basedatatypes.py\u001B[0m in \u001B[0;36mwrite_image\u001B[0;34m(self, *args, **kwargs)\u001B[0m\n\u001B[1;32m   3827\u001B[0m         \u001B[0;32mimport\u001B[0m \u001B[0mplotly\u001B[0m\u001B[0;34m.\u001B[0m\u001B[0mio\u001B[0m \u001B[0;32mas\u001B[0m \u001B[0mpio\u001B[0m\u001B[0;34m\u001B[0m\u001B[0;34m\u001B[0m\u001B[0m\n\u001B[1;32m   3828\u001B[0m \u001B[0;34m\u001B[0m\u001B[0m\n\u001B[0;32m-> 3829\u001B[0;31m         \u001B[0;32mreturn\u001B[0m \u001B[0mpio\u001B[0m\u001B[0;34m.\u001B[0m\u001B[0mwrite_image\u001B[0m\u001B[0;34m(\u001B[0m\u001B[0mself\u001B[0m\u001B[0;34m,\u001B[0m \u001B[0;34m*\u001B[0m\u001B[0margs\u001B[0m\u001B[0;34m,\u001B[0m \u001B[0;34m**\u001B[0m\u001B[0mkwargs\u001B[0m\u001B[0;34m)\u001B[0m\u001B[0;34m\u001B[0m\u001B[0;34m\u001B[0m\u001B[0m\n\u001B[0m\u001B[1;32m   3830\u001B[0m \u001B[0;34m\u001B[0m\u001B[0m\n\u001B[1;32m   3831\u001B[0m     \u001B[0;31m# Static helpers\u001B[0m\u001B[0;34m\u001B[0m\u001B[0;34m\u001B[0m\u001B[0;34m\u001B[0m\u001B[0m\n",
      "\u001B[0;32m~/.cache/pypoetry/virtualenvs/nannyml-TW_t7fhL-py3.7/lib/python3.7/site-packages/plotly/io/_kaleido.py\u001B[0m in \u001B[0;36mwrite_image\u001B[0;34m(fig, file, format, scale, width, height, validate, engine)\u001B[0m\n\u001B[1;32m    273\u001B[0m         \u001B[0mheight\u001B[0m\u001B[0;34m=\u001B[0m\u001B[0mheight\u001B[0m\u001B[0;34m,\u001B[0m\u001B[0;34m\u001B[0m\u001B[0;34m\u001B[0m\u001B[0m\n\u001B[1;32m    274\u001B[0m         \u001B[0mvalidate\u001B[0m\u001B[0;34m=\u001B[0m\u001B[0mvalidate\u001B[0m\u001B[0;34m,\u001B[0m\u001B[0;34m\u001B[0m\u001B[0;34m\u001B[0m\u001B[0m\n\u001B[0;32m--> 275\u001B[0;31m         \u001B[0mengine\u001B[0m\u001B[0;34m=\u001B[0m\u001B[0mengine\u001B[0m\u001B[0;34m,\u001B[0m\u001B[0;34m\u001B[0m\u001B[0;34m\u001B[0m\u001B[0m\n\u001B[0m\u001B[1;32m    276\u001B[0m     )\n\u001B[1;32m    277\u001B[0m \u001B[0;34m\u001B[0m\u001B[0m\n",
      "\u001B[0;32m~/.cache/pypoetry/virtualenvs/nannyml-TW_t7fhL-py3.7/lib/python3.7/site-packages/plotly/io/_kaleido.py\u001B[0m in \u001B[0;36mto_image\u001B[0;34m(fig, format, width, height, scale, validate, engine)\u001B[0m\n\u001B[1;32m    121\u001B[0m             \u001B[0mheight\u001B[0m\u001B[0;34m=\u001B[0m\u001B[0mheight\u001B[0m\u001B[0;34m,\u001B[0m\u001B[0;34m\u001B[0m\u001B[0;34m\u001B[0m\u001B[0m\n\u001B[1;32m    122\u001B[0m             \u001B[0mscale\u001B[0m\u001B[0;34m=\u001B[0m\u001B[0mscale\u001B[0m\u001B[0;34m,\u001B[0m\u001B[0;34m\u001B[0m\u001B[0;34m\u001B[0m\u001B[0m\n\u001B[0;32m--> 123\u001B[0;31m             \u001B[0mvalidate\u001B[0m\u001B[0;34m=\u001B[0m\u001B[0mvalidate\u001B[0m\u001B[0;34m,\u001B[0m\u001B[0;34m\u001B[0m\u001B[0;34m\u001B[0m\u001B[0m\n\u001B[0m\u001B[1;32m    124\u001B[0m         )\n\u001B[1;32m    125\u001B[0m     \u001B[0;32melif\u001B[0m \u001B[0mengine\u001B[0m \u001B[0;34m!=\u001B[0m \u001B[0;34m\"kaleido\"\u001B[0m\u001B[0;34m:\u001B[0m\u001B[0;34m\u001B[0m\u001B[0;34m\u001B[0m\u001B[0m\n",
      "\u001B[0;32m~/.cache/pypoetry/virtualenvs/nannyml-TW_t7fhL-py3.7/lib/python3.7/site-packages/plotly/io/_orca.py\u001B[0m in \u001B[0;36mto_image\u001B[0;34m(fig, format, width, height, scale, validate)\u001B[0m\n\u001B[1;32m   1537\u001B[0m     \u001B[0;31m# Make sure orca sever is running\u001B[0m\u001B[0;34m\u001B[0m\u001B[0;34m\u001B[0m\u001B[0;34m\u001B[0m\u001B[0m\n\u001B[1;32m   1538\u001B[0m     \u001B[0;31m# -------------------------------\u001B[0m\u001B[0;34m\u001B[0m\u001B[0;34m\u001B[0m\u001B[0;34m\u001B[0m\u001B[0m\n\u001B[0;32m-> 1539\u001B[0;31m     \u001B[0mensure_server\u001B[0m\u001B[0;34m(\u001B[0m\u001B[0;34m)\u001B[0m\u001B[0;34m\u001B[0m\u001B[0;34m\u001B[0m\u001B[0m\n\u001B[0m\u001B[1;32m   1540\u001B[0m \u001B[0;34m\u001B[0m\u001B[0m\n\u001B[1;32m   1541\u001B[0m     \u001B[0;31m# Handle defaults\u001B[0m\u001B[0;34m\u001B[0m\u001B[0;34m\u001B[0m\u001B[0;34m\u001B[0m\u001B[0m\n",
      "\u001B[0;32m~/.cache/pypoetry/virtualenvs/nannyml-TW_t7fhL-py3.7/lib/python3.7/site-packages/plotly/io/_orca.py\u001B[0m in \u001B[0;36mensure_server\u001B[0;34m()\u001B[0m\n\u001B[1;32m   1369\u001B[0m \u001B[0mInstall\u001B[0m \u001B[0musing\u001B[0m \u001B[0mconda\u001B[0m\u001B[0;34m:\u001B[0m\u001B[0;34m\u001B[0m\u001B[0;34m\u001B[0m\u001B[0m\n\u001B[1;32m   1370\u001B[0m     \u001B[0;31m$\u001B[0m \u001B[0mconda\u001B[0m \u001B[0minstall\u001B[0m \u001B[0mpsutil\u001B[0m\u001B[0;34m\u001B[0m\u001B[0;34m\u001B[0m\u001B[0m\n\u001B[0;32m-> 1371\u001B[0;31m \"\"\"\n\u001B[0m\u001B[1;32m   1372\u001B[0m         )\n\u001B[1;32m   1373\u001B[0m \u001B[0;34m\u001B[0m\u001B[0m\n",
      "\u001B[0;31mValueError\u001B[0m: Image generation requires the psutil package.\n\nInstall using pip:\n    $ pip install psutil\n\nInstall using conda:\n    $ conda install psutil\n"
     ]
    }
   ],
   "source": [
    "fig.write_image(file=\"../_static/example_california_performance.svg\", engine=\"orca\")"
   ]
  },
  {
   "cell_type": "code",
   "execution_count": null,
   "id": "7e8aeb29",
   "metadata": {
    "scrolled": true
   },
   "outputs": [],
   "source": [
    "from sklearn.metrics import roc_auc_score\n",
    "import matplotlib.pyplot as plt\n",
    "# add ground truth to analysis\n",
    "analysis_full = pd.merge(analysis,analysis_gt, on = 'identifier')\n",
    "df_all = pd.concat([reference, analysis_full]).reset_index(drop=True)\n",
    "df_all['timestamp'] = pd.to_datetime(df_all['timestamp'])\n",
    "# calculate actual ROC AUC\n",
    "target_col = metadata.target_column_name\n",
    "pred_score_col = 'y_pred_proba'\n",
    "actual_performance = []\n",
    "for idx in est_perf.data.index:\n",
    "    start_date, end_date = est_perf.data.loc[idx, 'start_date'], est_perf.data.loc[idx, 'end_date']\n",
    "    sub = df_all[df_all['timestamp'].between(start_date, end_date)]\n",
    "    actual_perf = roc_auc_score(sub[target_col], sub[pred_score_col])\n",
    "    est_perf.data.loc[idx, 'actual_roc_auc'] = actual_perf\n",
    "# plot\n",
    "first_analysis = est_perf.data[est_perf.data['partition']=='analysis']['key'].values[0]\n",
    "plt.plot(est_perf.data['key'], est_perf.data['estimated_roc_auc'], label='estimated AUC')\n",
    "plt.plot(est_perf.data['key'], est_perf.data['actual_roc_auc'], label='actual ROC AUC')\n",
    "plt.xticks(rotation=90)\n",
    "plt.axvline(x=first_analysis, label='First analysis chunk', linestyle=':', color='grey')\n",
    "plt.ylabel('ROC AUC')\n",
    "plt.legend()\n",
    "plt.show()"
   ]
  },
  {
   "cell_type": "code",
   "execution_count": null,
   "id": "d337831b",
   "metadata": {
    "scrolled": true
   },
   "outputs": [],
   "source": [
    "univariate_calculator = nml.UnivariateStatisticalDriftCalculator(model_metadata=metadata, chunk_period='M')\n",
    "univariate_calculator.fit(reference_data=reference)\n",
    "univariate_results = univariate_calculator.calculate(data=pd.concat([analysis]))\n",
    "nml.Ranker.by('alert_count').rank(univariate_results, metadata)"
   ]
  },
  {
   "cell_type": "code",
   "execution_count": null,
   "id": "f0650dad",
   "metadata": {
    "scrolled": true
   },
   "outputs": [],
   "source": [
    "# get columns with d statistics only\n",
    "d_stat_cols = [x for x in univariate_results.data if 'dstat' in x]\n",
    "univariate_results.data[d_stat_cols].mean().sort_values(ascending=False)"
   ]
  },
  {
   "cell_type": "code",
   "execution_count": null,
   "id": "0d7cecaa",
   "metadata": {
    "scrolled": true
   },
   "outputs": [],
   "source": [
    "for label in ['Longitude', 'Latitude']:\n",
    "    fig = univariate_results.plot(\n",
    "        kind='feature_distribution',\n",
    "        feature_label=label)\n",
    "    fig.show()\n",
    "    fig.write_image(\"../_static/example_california_performance_distribution_{}.svg\".format(label), engine=\"orca\")"
   ]
  },
  {
   "cell_type": "code",
   "execution_count": null,
   "id": "66f71556",
   "metadata": {
    "scrolled": true
   },
   "outputs": [],
   "source": [
    "analysis_res = est_perf_data[est_perf_data['partition']=='analysis']\n",
    "plt.figure(figsize=(8,6))\n",
    "for idx in analysis_res.index[:10]:\n",
    "    start_date, end_date = analysis_res.loc[idx, 'start_date'], analysis_res.loc[idx, 'end_date']\n",
    "    sub = df_all[df_all['timestamp'].between(start_date, end_date)]\n",
    "    plt.scatter(sub['Latitude'], sub['Longitude'], s=5, label=\"Chunk {}\".format(str(idx)))\n",
    "plt.legend()\n",
    "plt.xlabel('Latitude')\n",
    "plt.ylabel('Longitude')"
   ]
  },
  {
   "cell_type": "code",
   "execution_count": null,
   "id": "0d22432d",
   "metadata": {
    "scrolled": true
   },
   "outputs": [],
   "source": []
  }
 ],
 "metadata": {
  "kernelspec": {
   "display_name": "Python 3 (ipykernel)",
   "language": "python",
   "name": "python3"
  },
  "language_info": {
   "codemirror_mode": {
    "name": "ipython",
    "version": 3
   },
   "file_extension": ".py",
   "mimetype": "text/x-python",
   "name": "python",
   "nbconvert_exporter": "python",
   "pygments_lexer": "ipython3",
   "version": "3.7.10"
  }
 },
 "nbformat": 4,
 "nbformat_minor": 5
}
