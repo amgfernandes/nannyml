{
 "cells": [
  {
   "cell_type": "code",
   "execution_count": null,
   "id": "d11ed3df",
   "metadata": {},
   "outputs": [],
   "source": [
    "def showrst(df):\n",
    "    print(df.to_markdown(tablefmt=\"grid\"))"
   ]
  },
  {
   "cell_type": "code",
   "execution_count": null,
   "id": "387a0568",
   "metadata": {},
   "outputs": [],
   "source": [
    "import pandas as pd\n",
    "import nannyml as nml\n",
    "reference, analysis, analysis_gt = nml.datasets.load_synthetic_sample()\n",
    "reference.head(3)"
   ]
  },
  {
   "cell_type": "code",
   "execution_count": null,
   "id": "f9b3ad09",
   "metadata": {},
   "outputs": [],
   "source": [
    "analysis.head(3)"
   ]
  },
  {
   "cell_type": "code",
   "execution_count": null,
   "id": "388e342f",
   "metadata": {},
   "outputs": [],
   "source": [
    "analysis.head(3)\n",
    "metadata = nml.extract_metadata(reference)\n",
    "metadata.target_column_name = 'work_home_actual'"
   ]
  },
  {
   "cell_type": "code",
   "execution_count": null,
   "id": "a1690006",
   "metadata": {},
   "outputs": [],
   "source": [
    "cbpe = nml.CBPE(model_metadata=metadata, chunk_size=5000)\n",
    "cbpe.fit(reference_data=reference)"
   ]
  },
  {
   "cell_type": "code",
   "execution_count": null,
   "id": "4ee2e3be",
   "metadata": {},
   "outputs": [],
   "source": [
    "est_perf = cbpe.estimate(pd.concat([reference, analysis]))"
   ]
  },
  {
   "cell_type": "code",
   "execution_count": null,
   "id": "4e233376",
   "metadata": {},
   "outputs": [],
   "source": [
    "est_perf.data.head(3)"
   ]
  },
  {
   "cell_type": "code",
   "execution_count": null,
   "id": "1ffff96a",
   "metadata": {
    "pycharm": {
     "is_executing": true
    }
   },
   "outputs": [],
   "source": [
    "fig = est_perf.plot(kind='performance')\n",
    "fig.show()\n"
   ]
  },
  {
   "cell_type": "code",
   "execution_count": null,
   "id": "83aa32b6",
   "metadata": {},
   "outputs": [],
   "source": [
    "fig = est_perf.plot(kind='performance')\n",
    "fig.write_image(file=\"../_static/performance_estimation_guide_synth.svg\", engine=\"orca\")"
   ]
  },
  {
   "cell_type": "code",
   "execution_count": null,
   "id": "d339ca57",
   "metadata": {},
   "outputs": [],
   "source": [
    "analysis_gt.head(3)"
   ]
  },
  {
   "cell_type": "code",
   "execution_count": null,
   "id": "9978ce5c",
   "metadata": {},
   "outputs": [],
   "source": [
    "from sklearn.metrics import roc_auc_score\n",
    "import matplotlib.pyplot as plt\n",
    "# merge gt to analysis\n",
    "analysis_full = pd.merge(analysis, analysis_gt, on = 'identifier')\n",
    "df_all = pd.concat([reference, analysis_full]).reset_index(drop=True)\n",
    "target_col = 'work_home_actual'\n",
    "pred_score_col = 'y_pred_proba'\n",
    "actual_performance = []\n",
    "for idx in est_perf.data.index:\n",
    "    start_index, end_index = est_perf.data.loc[idx, 'start_index'], est_perf.data.loc[idx, 'end_index']\n",
    "    sub = df_all.loc[start_index:end_index]\n",
    "    actual_perf = roc_auc_score(sub[target_col], sub[pred_score_col])\n",
    "    est_perf.data.loc[idx, 'actual_roc_auc'] = actual_perf\n",
    "# plot\n",
    "est_perf.data[['estimated_roc_auc', 'actual_roc_auc']].plot()\n",
    "plt.xlabel('chunk')\n",
    "plt.ylabel('ROC AUC')\n",
    "plt.show()"
   ]
  },
  {
   "cell_type": "code",
   "execution_count": null,
   "id": "ed977073",
   "metadata": {},
   "outputs": [],
   "source": []
  }
 ],
 "metadata": {
  "kernelspec": {
   "display_name": "Python 3 (ipykernel)",
   "language": "python",
   "name": "python3"
  },
  "language_info": {
   "codemirror_mode": {
    "name": "ipython",
    "version": 3
   },
   "file_extension": ".py",
   "mimetype": "text/x-python",
   "name": "python",
   "nbconvert_exporter": "python",
   "pygments_lexer": "ipython3",
   "version": "3.7.10"
  }
 },
 "nbformat": 4,
 "nbformat_minor": 5
}
